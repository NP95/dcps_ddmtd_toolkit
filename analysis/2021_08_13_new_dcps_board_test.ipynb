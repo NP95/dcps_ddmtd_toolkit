{
 "cells": [
  {
   "cell_type": "code",
   "execution_count": 8,
   "id": "28bc5cb5",
   "metadata": {},
   "outputs": [
    {
     "name": "stdout",
     "output_type": "stream",
     "text": [
      "The autoreload extension is already loaded. To reload it, use:\n",
      "  %reload_ext autoreload\n"
     ]
    }
   ],
   "source": [
    "from tools.base import *\n",
    "from tools.ddmtd import *\n",
    "import pandas as pd\n",
    "import matplotlib.pyplot as plt\n",
    "import numpy as np\n",
    "from time import sleep \n",
    "from copy import deepcopy\n",
    "%load_ext autoreload\n",
    "%autoreload 2"
   ]
  },
  {
   "cell_type": "code",
   "execution_count": 9,
   "id": "d0cb2e24",
   "metadata": {},
   "outputs": [],
   "source": [
    "#Generate column names\n",
    "NUM_WORDS = 32\n",
    "column_names = []\n",
    "for i in range(1,NUM_WORDS+1):\n",
    "    column_names.append(f\"edge{i}\")\n",
    "    column_names.append(f\"ddmtd{i}\")\n",
    "    \n",
    "pd.set_option('max_columns', None)\n",
    "pd.set_option('max_rows', 100)"
   ]
  },
  {
   "cell_type": "code",
   "execution_count": 10,
   "id": "2a3cb4e6",
   "metadata": {},
   "outputs": [],
   "source": [
    "server=\"trenz_fpga\"\n",
    "rpi_server=\"trenz_pi\""
   ]
  },
  {
   "cell_type": "code",
   "execution_count": 11,
   "id": "ab4d9068",
   "metadata": {},
   "outputs": [],
   "source": [
    "def get_data(step,channel =5,folder=\"\",aq_iter = 100):\n",
    "    data_folder = f\"data_files/{folder}/c{channel}_data_step_{str(step).zfill(3)}/\"\n",
    "    !mkdir -p {data_folder}\n",
    "    !../acq_software/run_atPi.sh ../acq_software/ {step} {channel} {rpi_server}\n",
    "    !../acq_software/run_atTrenz.sh ../acq_software/ {aq_iter} {server}\n",
    "    !sshpass -p \"root\" rsync -aP {server}:data_acq/data_files/ddmtd1.txt ./{data_folder}/ddmtd1.txt\n",
    "    !sshpass -p \"root\" rsync -aP {server}:data_acq/data_files/ddmtd2.txt ./{data_folder}/ddmtd2.txt\n",
    "    !sshpass -p \"root\" rsync -aP {server}:data_acq/data_files/ddmtd3.txt ./{data_folder}/ddmtd3.txt\n",
    "        \n",
    "\n",
    "def plot_data(step=0,channel =10,folder=\"\",freq=160*10**6,data_stream = (1,3),draw=False):   \n",
    "    df = data2df(step\n",
    "             ,channel=channel\n",
    "             ,folder=folder\n",
    "             ,freq = freq\n",
    "             ,data_stream = data_stream\n",
    "            )\n",
    "#     popt,p_err = df.drawTIE(save_name='',bns=None,fit=True, sep=\"TIE_FALL\")\n",
    "    popt,p_err = df.drawTIE(save_name='',bns=None,fit=True, sep=\"\",draw=draw)\n",
    "    \n",
    "\n",
    "\n",
    "    return (popt[1]*1000,p_err[1]*1000)\n",
    "    \n",
    "    \n",
    "\n",
    "def plot_tie(tie):\n",
    "    f,ax = plt.subplots(figsize=(8,6))\n",
    "    \n",
    "    ax.errorbar(tie[0],tie[1],yerr=tie[2],fmt='o',\n",
    "#                         color='red',\n",
    "                        capsize=5,\n",
    "                        ecolor='black'\n",
    "                        ,label=f'ODD'\n",
    "                       )\n",
    "#     ax.errorbar(tie[0],tie[3],yerr=tie[4],fmt='o',\n",
    "# #                         color='red',\n",
    "#                         capsize=5,\n",
    "#                         ecolor='black'\n",
    "#                         ,label=f'EVEN'\n",
    "#                        )\n",
    "    plt.xlabel(\"Delay cell index\", fontsize=15)\n",
    "    plt.ylabel(\"TIE [ps] staggered\", fontsize=15)\n",
    "    plt.legend(loc=\"upper right\")\n",
    "    plt.gca().grid()\n",
    "    \n",
    "def data2df(step=0,channel =5,folder=\"\",freq=160*10**6, data_stream = (1,3)):\n",
    "    data_folder = f\"data_files/{folder}/c{channel}_data_step_{str(step).zfill(3)}/\"\n",
    "    dv1= pd.read_csv(f\"{data_folder}/ddmtd1.txt\",sep=\",\",header=0 ,skiprows=0,names=column_names[0:16])\n",
    "    dv2= pd.read_csv(f\"{data_folder}/ddmtd2.txt\",sep=\",\",header=0 ,skiprows=0,names=column_names[16:32])\n",
    "    dv3= pd.read_csv(f\"{data_folder}/ddmtd3.txt\",sep=\",\",header=0 ,skiprows=0,names=column_names[32:48])\n",
    "    dv = pd.concat((dv1,dv2,dv3),axis=1)  \n",
    "#     dv = dv1\n",
    "#     df = deepcopy(dv[(dv.T != 0).any()])\n",
    "#     df = df.reset_index(drop=1)\n",
    "    df = deepcopy(dv)\n",
    "#     return df \n",
    "#     df = df[df.ddmtd3!=2147483647].reset_index(drop=1).drop([0,1,2])    \n",
    "#     df.iloc[0,:]=0\n",
    "#     return df\n",
    "    data = ddmtd(deepcopy(df),q=1,channel=data_stream)\n",
    "    data.N=100000\n",
    "    data.INPUT_FREQ = freq\n",
    "    data.Recalc()\n",
    "    return data \n",
    "\n",
    "def config_dcps(step,channel):\n",
    "    !../acq_software/run_atPi.sh ../acq_software/ {step} {channel} {rpi_server}\n",
    "\n",
    "\n",
    "    \n",
    "def get_data_debug(step,channel =5,folder=\"\",aq_iter = 100,sleep_time=20000):\n",
    "    data_folder = f\"data_files/{folder}/c{channel}_data_step_{str(step).zfill(3)}/\"\n",
    "    !mkdir -p {data_folder}\n",
    "    !../acq_software/run_atTrenz.sh ../acq_software/ {aq_iter} {server} {sleep_time}\n",
    "    !sshpass -p \"root\" rsync -aP {server}:data_acq/data_files/ddmtd1.txt ./{data_folder}/ddmtd1.txt\n",
    "    !sshpass -p \"root\" rsync -aP {server}:data_acq/data_files/ddmtd2.txt ./{data_folder}/ddmtd2.txt\n",
    "    !sshpass -p \"root\" rsync -aP {server}:data_acq/data_files/ddmtd3.txt ./{data_folder}/ddmtd3.txt"
   ]
  },
  {
   "cell_type": "code",
   "execution_count": 13,
   "id": "6173c536",
   "metadata": {},
   "outputs": [
    {
     "name": "stdout",
     "output_type": "stream",
     "text": [
      "We are in dir::/home/pi/Flash_Firmware\n",
      "Done Compiling PLLs\n",
      "\n",
      "TBUFF[2] = 60\n",
      "\n",
      "RBUFF[0] = 0\n",
      "RBUFF[1] = 0\n",
      "RBUFF[2] = 60\n",
      "address = 0x0514, value = 0x01 ; Value returned = 0x00   \n",
      "address = 0x001c, value = 0x01 ; Value returned = 0x00   \n",
      "\n",
      "TBUFF[2] = 47\n",
      "\n",
      "RBUFF[0] = 0\n",
      "RBUFF[1] = 0\n",
      "RBUFF[2] = 47\n",
      "address = 0x0514, value = 0x01 ; Value returned = 0x00   \n",
      "address = 0x001c, value = 0x01 ; Value returned = 0x00   \n"
     ]
    }
   ],
   "source": [
    "freq=160\n",
    "# !../RPi/config_pll.sh {rpi_server} ../RPi/ 2021_07_20_Dispersion/OCXO/Si5344H-RevD-Registers_{freq}M.h 2021_07_20_Dispersion/PLL/Si5344H-RevD-Registers_{freq}M.h\n",
    "!../RPi/config_pll.sh {rpi_server} ../RPi/ 2021_07_20_Dispersion/OCXO/Si5344H-RevD-Registers_{freq}M.h 2021_08_09_Si5344H/PLL/Si5344H-RevD-Registers_{freq}M.h\n",
    "\n",
    "\n",
    "\n"
   ]
  },
  {
   "cell_type": "code",
   "execution_count": 16,
   "id": "811032a2",
   "metadata": {},
   "outputs": [],
   "source": [
    "folder_name = f\"2021_08_13_{freq}MHz\"\n",
    "\n"
   ]
  },
  {
   "cell_type": "code",
   "execution_count": 18,
   "id": "d4dabaaa",
   "metadata": {},
   "outputs": [
    {
     "name": "stdout",
     "output_type": "stream",
     "text": [
      "0 delay step selected \n",
      "5 channel selected \n",
      "Selected Fiber 5\n",
      "loading firmware: 2021_08_09_DCPS_v2.bit.bin\n",
      "receiving file list ... \n",
      "1 file to consider\n",
      "ddmtd1.txt\n",
      "    42503944 100%   10.10MB/s    0:00:04 (xfer#1, to-check=0/1)\n",
      "\n",
      "sent 38 bytes  received 42514431 bytes  4475207.26 bytes/sec\n",
      "total size is 42503944  speedup is 1.00\n",
      "receiving file list ... \n",
      "1 file to consider\n",
      "ddmtd2.txt\n",
      "    46294701 100%   10.17MB/s    0:00:04 (xfer#1, to-check=0/1)\n",
      "\n",
      "sent 38 bytes  received 46306108 bytes  8419299.27 bytes/sec\n",
      "total size is 46294701  speedup is 1.00\n",
      "receiving file list ... \n",
      "1 file to consider\n",
      "ddmtd3.txt\n",
      "    46317474 100%   10.48MB/s    0:00:04 (xfer#1, to-check=0/1)\n",
      "\n",
      "sent 38 bytes  received 46328889 bytes  8423441.27 bytes/sec\n",
      "total size is 46317474  speedup is 1.00\n"
     ]
    }
   ],
   "source": [
    "get_data(0,channel=5,folder=folder_name,aq_iter=500)"
   ]
  },
  {
   "cell_type": "code",
   "execution_count": null,
   "id": "78f212dc",
   "metadata": {},
   "outputs": [],
   "source": [
    "tie,tie_err = plot_data(0\n",
    "             ,channel=5\n",
    "             ,folder=folder_name\n",
    "             ,freq = freq*10**6\n",
    "             ,data_stream = (1,3)\n",
    "                )"
   ]
  }
 ],
 "metadata": {
  "kernelspec": {
   "display_name": "Python 3 (ipykernel)",
   "language": "python",
   "name": "python3"
  },
  "language_info": {
   "codemirror_mode": {
    "name": "ipython",
    "version": 3
   },
   "file_extension": ".py",
   "mimetype": "text/x-python",
   "name": "python",
   "nbconvert_exporter": "python",
   "pygments_lexer": "ipython3",
   "version": "3.8.8"
  }
 },
 "nbformat": 4,
 "nbformat_minor": 5
}
